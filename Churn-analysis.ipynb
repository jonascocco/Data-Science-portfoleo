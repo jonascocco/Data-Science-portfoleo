# To add a new cell, type '# %%'
# To add a new markdown cell, type '# %% [markdown]'
# %% [markdown]
# ## Churn analysis
#  ### A few questions must be in mind to understand this scenario, also create an idea of what we are looking for:
# * Why a client leave the company, and how can be avoid?
# 
# Churn is the moment when a client stop doing business with the company.It is a considerable problem, especially in subscription-dependent sectors;
# 
# * Why is that important?
# 
# Turnover have a direct affects on the budget, also increase costs, it is more expensive capt a new client than keep the ones we already have;
# 
# * What's the business problem?
# 
# Determine the main factors of customer turnover and predict the chances of a customer leaving.
# %% [markdown]
# ## Exploring the data:

# %%
#set-up libraries
import os
import pandas as pd
import numpy as np
import matplotlib.pyplot as plt
import seaborn as sns
sns.set()
from sklearn.preprocessing import MinMaxScaler
from sklearn.model_selection import train_test_split
from sklearn.linear_model import LogisticRegression
from sklearn.ensemble import RandomForestClassifier
from xgboost import XGBClassifier
from sklearn.metrics import roc_auc_score, roc_curve


# %%
#Python version
from platform import python_version
print("Language version python for this notebook:", python_version())

#alert
import warnings
import sys
warnings.simplefilter(action= "ignore", 
category=FutureWarning)
warnings.filterwarnings("ignore", category=FutureWarning)
if not sys.warnoptions:
    warnings.simplefilter("ignore")
    

# %% [markdown]
# Data Sourse : https://www.kaggle.com/blastchar/telco-customer-churn

# %%
#Dta frame import CSV
df = pd.read_csv('CHURN.csv')

print(df.info())
df.head()


# %%
#check for missing values
df.duplicated().sum()

df.isna().sum()


# %%
#explore label breakdown

df['Churn'].value_counts()
sns.countplot(df['Churn'])


# %%
#explore demographic features quickly
f, ax = plt.subplots(2,2,figsize=(10,10))

sns.countplot(df['gender'], ax = ax[0,0])
sns.countplot(df['SeniorCitizen'], ax=ax[0,1])
sns.countplot(df['Partner'], ax=ax[1,0])
sns.countplot(df['Dependents'], ax=ax[1,1])


# %%
#explore services subscribed to quickly
f, ax = plt.subplots(3,3, figsize=(20,15))

sns.countplot(df['PhoneService'], ax=ax[0,0])
sns.countplot(df['MultipleLines'], ax=ax[0,1])
sns.countplot(df['InternetService'],ax=ax[0,2])
sns.countplot(df['OnlineSecurity'], ax=ax[1,0])
sns.countplot(df['OnlineBackup'], ax=ax[1,1])
sns.countplot(df['DeviceProtection'], ax=ax[1,2])
sns.countplot(df['TechSupport'], ax=ax[2,0])
sns.countplot(df['StreamingTV'], ax=ax[2,1])
sns.countplot(df['StreamingMovies'], ax=ax[2,2])


# %%
# Explore accounts quickly
df['Contract'].value_counts()
sns.countplot(df['Contract'])


# %%
# Explore accounts quickly
f, ax = plt.subplots(1,3, figsize=(15,5))
plt.xticks(rotation=30)

sns.countplot(df['Contract'], ax=ax[0])
sns.countplot(df['PaperlessBilling'], ax=ax[1])
sns.countplot(df['PaymentMethod'], ax=ax[2])


# %%
#exploring monthly payments against churns
sns.boxplot('Churn','MonthlyCharges', data=df)


# %%
#summarise
df.describe()

# %% [markdown]
# #starting preprocessing Data

# %%
# Remove unuseable Information
df.drop(['customerID'], axis=1, inplace=True)


# %%
#converting string to numeric value
df['TotalCharges'] = df['TotalCharges'].replace(' ',np.nan)
df.isna().sum()
df.dropna(inplace=True)

df['TotalCharges'] = pd.to_numeric(df['TotalCharges'])

#Exploring total charges against churns
sns.boxplot('Churn', 'TotalCharges', data=df)


# %%
#converting labels from yes/no to 1/0 for Churn
df['Churn'].replace('Yes',1,inplace=True)
df['Churn'].replace('No',0,inplace=True)

#converting labels from 1/0 to Yes/No for SeniorCitizen
df['SeniorCitizen'].replace(1,'Yes', inplace=True)
df['SeniorCitizen'].replace(0, 'No', inplace=True)

#encode Other variables
df_onehot=pd.get_dummies(df)

df_onehot.head()


# %%
# Visualizing the Distribution before
f, ax = plt.subplots(1,3, figsize=(15,5))

sns.distplot(df_onehot['tenure'], ax=ax[0])
sns.distplot(df_onehot['MonthlyCharges'], ax=ax[1])
sns.distplot(df_onehot['TotalCharges'], ax=ax[2])

sns.distplot(df_onehot['tenure'],color='b', ax=ax[0])
sns.distplot(df_onehot['MonthlyCharges'],color='b', ax=ax[1])
sns.distplot(df_onehot['TotalCharges'],color='b', ax=ax[2])


# %%
#running the scale

scaler = MinMaxScaler()
df_onehot['tenure'] = scaler.fit_transform(df_onehot['tenure'].values.reshape(-1,1))
df_onehot['MonthlyCharges'] = scaler.fit_transform(df_onehot['MonthlyCharges'].values.reshape(-1,1))
df_onehot['TotalCharges'] = scaler.fit_transform(df_onehot['TotalCharges'].values.reshape(-1,1))


# %%
#after scale distribution view
f, ax = plt.subplots(1,3, figsize=(15,5))

sns.distplot(df_onehot['tenure'], ax=ax[0])
sns.distplot(df_onehot['MonthlyCharges'], ax=ax[1])
sns.distplot(df_onehot['TotalCharges'], ax=ax[2])


# %%
#Spliting dataset for churn prediction.

x= df_onehot.drop(['Churn'], axis=1)
y= df_onehot['Churn'].values.reshape(-1,1)

x_train, x_test, y_train, y_test = train_test_split(x,y, test_size=0.2, random_state=7)

# %% [markdown]
# ### Construction of the Predictive Machine.
# 
# ### Baseline

# %%
#build and Train model
model= LogisticRegression()
model.fit(x_train, y_train)

# Applying model
y_predict = model.predict(x_test)
actual_vs_predict = pd.DataFrame({'Actual': y_test.flatten(),
                                 'Prediction': y_predict.flatten()})
print(actual_vs_predict.sample(12))

# %% [markdown]
# ### Evaluating Predictive machine Baseline
# At this stage I'm Evaluating the machine

# %%
#Evaluate model
print('ROC AUC: %.2f' %(roc_auc_score(y_test,y_predict)*100),'%')

#visualization ROC
y_probs = model.predict_proba(x_test)[:,1]
fpr, tpr, thresholds = roc_curve(y_test, y_probs)
plt.plot(fpr,tpr,lw=2,color='blue')
plt.plot([0,1], [0,1], lw=2,color='gray')
plt.xlabel('False Positive Rate')
plt.ylabel('True Positive Rate')

# %% [markdown]
# ## Checking Baseline with GBM - Gradient Boosting


